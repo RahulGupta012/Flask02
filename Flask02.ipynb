{
 "cells": [
  {
   "cell_type": "markdown",
   "id": "8c437558-3a66-4b9f-aa99-d931fef9bdbf",
   "metadata": {},
   "source": [
    "                                           ASSIGNMENT: FLASK 02\n",
    "                                           "
   ]
  },
  {
   "cell_type": "markdown",
   "id": "938b973a-6528-4ec6-8233-33a044b95ea1",
   "metadata": {},
   "source": [
    "Q1. Explain GET and POST methods."
   ]
  },
  {
   "cell_type": "markdown",
   "id": "ae687e23-8499-425b-9c91-b978dc808fbf",
   "metadata": {},
   "source": [
    "Many people has confusions in this topic as they think; GET is using for getting the data and POST is for sending the data.But in the real scenario, the situation is different. GET and POST both are basically using for sending the data to the server. While the main defference between them is that; GET is sending the data to url also, so it is visible in url.While POST method always save the data in the format of body so it is not visible in the url. That why, Post is considered as more secure method also,"
   ]
  },
  {
   "cell_type": "markdown",
   "id": "9944e2d2-39e9-4f1e-b4e7-e0b6bfae00d8",
   "metadata": {},
   "source": [
    "Q2. Why is request used in Flask?"
   ]
  },
  {
   "cell_type": "markdown",
   "id": "fe1a66f9-bdb8-43c7-bd8e-94fc1f6253f6",
   "metadata": {},
   "source": [
    "In Flask request is used to perform both sending and receiving inputs from a user's to the server and process the request data from the server. For using the request in flask, firstly we have to install the request function by \"import request from Flask\""
   ]
  },
  {
   "cell_type": "markdown",
   "id": "9918c1e7-63c0-443e-8428-1ae86781b870",
   "metadata": {},
   "source": [
    "Q3. Why is redirect() used in Flask?"
   ]
  },
  {
   "cell_type": "markdown",
   "id": "b8336b34-d134-423d-9c96-d45682ec49e2",
   "metadata": {},
   "source": [
    "A redirect is used in the Flask to send the user to a particular URL with the status code.\n",
    "Parameters:\n",
    "\n",
    "location(str): the location which URL directs to.\n",
    "code(int): The status code for Redirect.\n",
    "Code: The default code is 302 which means that the move is only temporary."
   ]
  },
  {
   "cell_type": "markdown",
   "id": "4efc44fe-9d75-41df-a315-731df67140f9",
   "metadata": {},
   "source": [
    "Q4. What are templates in Flask? Why is the render_template() function used?"
   ]
  },
  {
   "cell_type": "markdown",
   "id": "e0f7d3c4-5acb-4033-a451-19a9aec27d86",
   "metadata": {},
   "source": [
    "Templates basically a file in the Flask, where we store the html files.\n",
    "render_template is a Flask function from the flask. templating package. render_template is used to generate output from a template file."
   ]
  },
  {
   "cell_type": "markdown",
   "id": "92d1e773-b34d-4953-a431-d1bb85d91245",
   "metadata": {},
   "source": [
    "Q5. Create a simple API. Use Postman to test it. Attach the screenshot of the output in the Jupyter Notebook."
   ]
  },
  {
   "cell_type": "markdown",
   "id": "085467bf-558b-4a0c-9858-8f8f4e41fc07",
   "metadata": {},
   "source": [
    "There are the output of postman"
   ]
  },
  {
   "cell_type": "markdown",
   "id": "f9b98c27-8dc5-4f81-953f-204ebbbed910",
   "metadata": {},
   "source": []
  },
  {
   "cell_type": "markdown",
   "id": "d9643462-4802-4eaf-b855-ad1e060ad46d",
   "metadata": {},
   "source": []
  }
 ],
 "metadata": {
  "kernelspec": {
   "display_name": "Python 3 (ipykernel)",
   "language": "python",
   "name": "python3"
  },
  "language_info": {
   "codemirror_mode": {
    "name": "ipython",
    "version": 3
   },
   "file_extension": ".py",
   "mimetype": "text/x-python",
   "name": "python",
   "nbconvert_exporter": "python",
   "pygments_lexer": "ipython3",
   "version": "3.10.8"
  }
 },
 "nbformat": 4,
 "nbformat_minor": 5
}
